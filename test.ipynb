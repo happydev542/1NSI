{
 "cells": [
  {
   "cell_type": "markdown",
   "metadata": {},
   "source": [
    "Ecrire une fonction qui renvoie la somme de deux nombres a et b passés en paramètres"
   ]
  },
  {
   "cell_type": "code",
   "execution_count": null,
   "metadata": {},
   "outputs": [],
   "source": [
    "def somme(a, b):\n",
    "    '''Retourne la somme de deux nombres a et b passés en paramètre\n",
    "    paramètres:\n",
    "    -----------\n",
    "    a : float\n",
    "        le premier nombre\n",
    "    b : float\n",
    "        le deuxième nombre\n",
    "    retour:\n",
    "    -----\n",
    "    somme : float\n",
    "        la somme des deux nombres\n",
    "    '''\n",
    "    #A compléter"
   ]
  },
  {
   "cell_type": "markdown",
   "metadata": {},
   "source": [
    "Tests pour vérifier votre fonctions"
   ]
  },
  {
   "cell_type": "code",
   "execution_count": null,
   "metadata": {},
   "outputs": [],
   "source": [
    "assert(somme(2, 3) == 5)\n",
    "assert(somme(4, -1) == 3)"
   ]
  }
 ],
 "metadata": {
  "kernelspec": {
   "display_name": "Python 3",
   "language": "python",
   "name": "python3"
  },
  "language_info": {
   "codemirror_mode": {
    "name": "ipython",
    "version": 3
   },
   "file_extension": ".py",
   "mimetype": "text/x-python",
   "name": "python",
   "nbconvert_exporter": "python",
   "pygments_lexer": "ipython3",
   "version": "3.6.9"
  }
 },
 "nbformat": 4,
 "nbformat_minor": 4
}
